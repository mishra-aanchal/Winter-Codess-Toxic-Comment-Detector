{
  "nbformat": 4,
  "nbformat_minor": 0,
  "metadata": {
    "colab": {
      "name": "Trial_2.ipynb",
      "provenance": [],
      "collapsed_sections": [],
      "include_colab_link": true
    },
    "kernelspec": {
      "name": "python3",
      "display_name": "Python 3"
    },
    "accelerator": "GPU"
  },
  "cells": [
    {
      "cell_type": "markdown",
      "metadata": {
        "id": "view-in-github",
        "colab_type": "text"
      },
      "source": [
        "<a href=\"https://colab.research.google.com/github/mishra-aanchal/Winter-Codess-Toxic-Comment-Detector/blob/main/Trial_2.ipynb\" target=\"_parent\"><img src=\"https://colab.research.google.com/assets/colab-badge.svg\" alt=\"Open In Colab\"/></a>"
      ]
    },
    {
      "cell_type": "markdown",
      "metadata": {
        "id": "O_pJ0nHFn3cJ"
      },
      "source": [
        "Import dependancies"
      ]
    },
    {
      "cell_type": "code",
      "metadata": {
        "id": "BsKRw3Eav4ON"
      },
      "source": [
        "import numpy as np\r\n",
        "import tensorflow as tf\r\n",
        "import tensorflow_hub as hub\r\n",
        "import io\r\n",
        "import pandas as pd\r\n",
        "import pickle\r\n",
        "import matplotlib.pyplot as plt\r\n",
        "from wordcloud import WordCloud\r\n",
        "import nltk\r\n",
        "from nltk.stem.snowball import SnowballStemmer\r\n",
        "from nltk.corpus import stopwords\r\n",
        "from nltk.stem import WordNetLemmatizer\r\n",
        "from nltk.stem.porter import PorterStemmer\r\n",
        "from nltk.tokenize import word_tokenize \r\n",
        "import re\r\n",
        "import string\r\n",
        "import sklearn as sk\r\n",
        "from sklearn.svm import LinearSVC\r\n",
        "from sklearn.naive_bayes import BernoulliNB\r\n",
        "from sklearn.linear_model import LogisticRegression\r\n",
        "from sklearn.model_selection import train_test_split\r\n",
        "from sklearn.feature_extraction.text import TfidfVectorizer\r\n",
        "from sklearn.model_selection import cross_val_score\r\n",
        "from sklearn.metrics import roc_auc_score\r\n",
        "from sklearn import metrics\r\n",
        "from sklearn.metrics import confusion_matrix, classification_report\r\n",
        "from scipy.sparse import hstack\r\n"
      ],
      "execution_count": null,
      "outputs": []
    },
    {
      "cell_type": "code",
      "metadata": {
        "colab": {
          "base_uri": "https://localhost:8080/"
        },
        "id": "G8OtI00ssBP6",
        "outputId": "bcad3631-a3b4-4d8e-8f2f-30b1f3695492"
      },
      "source": [
        "print('The nltk version is {}.'.format(nltk.__version__))\r\n",
        "print('The scikit-learn version is {}.'.format(sk.__version__))"
      ],
      "execution_count": null,
      "outputs": [
        {
          "output_type": "stream",
          "text": [
            "The nltk version is 3.2.5.\n",
            "The scikit-learn version is 0.22.2.post1.\n"
          ],
          "name": "stdout"
        }
      ]
    },
    {
      "cell_type": "markdown",
      "metadata": {
        "id": "YGJvIDNQ-qDR"
      },
      "source": [
        "Import dataset from github"
      ]
    },
    {
      "cell_type": "code",
      "metadata": {
        "colab": {
          "base_uri": "https://localhost:8080/"
        },
        "id": "kHrF8me3SbPO",
        "outputId": "bceedb83-2386-40df-8106-8e5ef9279d11"
      },
      "source": [
        "!wget https://raw.githubusercontent.com/dsc-umit/Toxic-Comment-Classification/main/train1.csv"
      ],
      "execution_count": null,
      "outputs": [
        {
          "output_type": "stream",
          "text": [
            "--2021-02-08 15:32:02--  https://raw.githubusercontent.com/dsc-umit/Toxic-Comment-Classification/main/train1.csv\n",
            "Resolving raw.githubusercontent.com (raw.githubusercontent.com)... 151.101.0.133, 151.101.64.133, 151.101.128.133, ...\n",
            "Connecting to raw.githubusercontent.com (raw.githubusercontent.com)|151.101.0.133|:443... connected.\n",
            "HTTP request sent, awaiting response... 200 OK\n",
            "Length: 1373698 (1.3M) [text/plain]\n",
            "Saving to: ‘train1.csv’\n",
            "\n",
            "train1.csv          100%[===================>]   1.31M  --.-KB/s    in 0.06s   \n",
            "\n",
            "2021-02-08 15:32:03 (22.0 MB/s) - ‘train1.csv’ saved [1373698/1373698]\n",
            "\n"
          ],
          "name": "stdout"
        }
      ]
    },
    {
      "cell_type": "code",
      "metadata": {
        "id": "Sq7LPF5_pvhH"
      },
      "source": [
        "url = 'https://raw.githubusercontent.com/dsc-umit/Toxic-Comment-Classification/main/train1.csv'"
      ],
      "execution_count": null,
      "outputs": []
    },
    {
      "cell_type": "markdown",
      "metadata": {
        "id": "qbd93k4dwQQL"
      },
      "source": [
        "Read train.csv<br>\r\n",
        "store train.csv in ds1"
      ]
    },
    {
      "cell_type": "code",
      "metadata": {
        "id": "Zb1sa_c5wWU-",
        "colab": {
          "base_uri": "https://localhost:8080/"
        },
        "outputId": "547617e7-b23a-4e2d-daad-2ec45b97dcda"
      },
      "source": [
        "ds1 = pd.read_csv(url)\r\n",
        "print(ds1)"
      ],
      "execution_count": null,
      "outputs": [
        {
          "output_type": "stream",
          "text": [
            "                                                    text sentiment  Label\n",
            "0          Sooo SAD I will miss you here in San Diego!!!  negative      1\n",
            "1                              my boss is bullying me...  negative      1\n",
            "2                         what interview! leave me alone  negative      1\n",
            "3       Sons of ****, why couldn`t they put them on t...  negative      1\n",
            "4      2am feedings for the baby are fun when he is a...  positive      0\n",
            "...                                                  ...       ...    ...\n",
            "16357                                     enjoy ur night  positive      0\n",
            "16358   wish we could come see u on Denver  husband l...  negative      1\n",
            "16359   I`ve wondered about rake to.  The client has ...  negative      1\n",
            "16360   Yay good for both of you. Enjoy the break - y...  positive      0\n",
            "16361                         But it was worth it  ****.  positive      0\n",
            "\n",
            "[16362 rows x 3 columns]\n"
          ],
          "name": "stdout"
        }
      ]
    },
    {
      "cell_type": "markdown",
      "metadata": {
        "id": "xLihvI5eybAW"
      },
      "source": [
        "Drop unwanted columns"
      ]
    },
    {
      "cell_type": "code",
      "metadata": {
        "id": "7MxzgGVsyrxD",
        "colab": {
          "base_uri": "https://localhost:8080/",
          "height": 347
        },
        "outputId": "317758c8-a5af-43a8-cc20-4718a553e137"
      },
      "source": [
        "uds1=ds1.drop(columns=[\"sentiment\"])\r\n",
        "uds1.head(10)"
      ],
      "execution_count": null,
      "outputs": [
        {
          "output_type": "execute_result",
          "data": {
            "text/html": [
              "<div>\n",
              "<style scoped>\n",
              "    .dataframe tbody tr th:only-of-type {\n",
              "        vertical-align: middle;\n",
              "    }\n",
              "\n",
              "    .dataframe tbody tr th {\n",
              "        vertical-align: top;\n",
              "    }\n",
              "\n",
              "    .dataframe thead th {\n",
              "        text-align: right;\n",
              "    }\n",
              "</style>\n",
              "<table border=\"1\" class=\"dataframe\">\n",
              "  <thead>\n",
              "    <tr style=\"text-align: right;\">\n",
              "      <th></th>\n",
              "      <th>text</th>\n",
              "      <th>Label</th>\n",
              "    </tr>\n",
              "  </thead>\n",
              "  <tbody>\n",
              "    <tr>\n",
              "      <th>0</th>\n",
              "      <td>Sooo SAD I will miss you here in San Diego!!!</td>\n",
              "      <td>1</td>\n",
              "    </tr>\n",
              "    <tr>\n",
              "      <th>1</th>\n",
              "      <td>my boss is bullying me...</td>\n",
              "      <td>1</td>\n",
              "    </tr>\n",
              "    <tr>\n",
              "      <th>2</th>\n",
              "      <td>what interview! leave me alone</td>\n",
              "      <td>1</td>\n",
              "    </tr>\n",
              "    <tr>\n",
              "      <th>3</th>\n",
              "      <td>Sons of ****, why couldn`t they put them on t...</td>\n",
              "      <td>1</td>\n",
              "    </tr>\n",
              "    <tr>\n",
              "      <th>4</th>\n",
              "      <td>2am feedings for the baby are fun when he is a...</td>\n",
              "      <td>0</td>\n",
              "    </tr>\n",
              "    <tr>\n",
              "      <th>5</th>\n",
              "      <td>Journey!? Wow... u just became cooler.  hehe....</td>\n",
              "      <td>0</td>\n",
              "    </tr>\n",
              "    <tr>\n",
              "      <th>6</th>\n",
              "      <td>I really really like the song Love Story by Ta...</td>\n",
              "      <td>0</td>\n",
              "    </tr>\n",
              "    <tr>\n",
              "      <th>7</th>\n",
              "      <td>My Sharpie is running DANGERously low on ink</td>\n",
              "      <td>1</td>\n",
              "    </tr>\n",
              "    <tr>\n",
              "      <th>8</th>\n",
              "      <td>i want to go to music tonight but i lost my vo...</td>\n",
              "      <td>1</td>\n",
              "    </tr>\n",
              "    <tr>\n",
              "      <th>9</th>\n",
              "      <td>Uh oh, I am sunburned</td>\n",
              "      <td>1</td>\n",
              "    </tr>\n",
              "  </tbody>\n",
              "</table>\n",
              "</div>"
            ],
            "text/plain": [
              "                                                text  Label\n",
              "0      Sooo SAD I will miss you here in San Diego!!!      1\n",
              "1                          my boss is bullying me...      1\n",
              "2                     what interview! leave me alone      1\n",
              "3   Sons of ****, why couldn`t they put them on t...      1\n",
              "4  2am feedings for the baby are fun when he is a...      0\n",
              "5   Journey!? Wow... u just became cooler.  hehe....      0\n",
              "6  I really really like the song Love Story by Ta...      0\n",
              "7       My Sharpie is running DANGERously low on ink      1\n",
              "8  i want to go to music tonight but i lost my vo...      1\n",
              "9                              Uh oh, I am sunburned      1"
            ]
          },
          "metadata": {
            "tags": []
          },
          "execution_count": 7
        }
      ]
    },
    {
      "cell_type": "markdown",
      "metadata": {
        "id": "uG5SchhZLkgC"
      },
      "source": [
        "Plot representation"
      ]
    },
    {
      "cell_type": "code",
      "metadata": {
        "id": "9QAfdwUqyeUn",
        "colab": {
          "base_uri": "https://localhost:8080/",
          "height": 265
        },
        "outputId": "910e7ff3-eaea-4818-c288-8dbe8961c467"
      },
      "source": [
        "uds1.Label.value_counts().plot(kind='pie')"
      ],
      "execution_count": null,
      "outputs": [
        {
          "output_type": "execute_result",
          "data": {
            "text/plain": [
              "<matplotlib.axes._subplots.AxesSubplot at 0x7f2fd13ec5c0>"
            ]
          },
          "metadata": {
            "tags": []
          },
          "execution_count": 8
        },
        {
          "output_type": "display_data",
          "data": {
            "image/png": "[encoded data removed]",
            "text/plain": [
              "<Figure size 432x288 with 1 Axes>"
            ]
          },
          "metadata": {
            "tags": []
          }
        }
      ]
    },
    {
      "cell_type": "markdown",
      "metadata": {
        "id": "czoajZOyLt-F"
      },
      "source": [
        "Convert text to lowercase"
      ]
    },
    {
      "cell_type": "code",
      "metadata": {
        "id": "O_T4dsDoJd8N",
        "colab": {
          "base_uri": "https://localhost:8080/",
          "height": 197
        },
        "outputId": "c6c32284-7137-4cbd-a1bf-ac3ea7023ef7"
      },
      "source": [
        "uds1[\"text_lower\"] = uds1[\"text\"].str.lower()\r\n",
        "uds1.head()"
      ],
      "execution_count": null,
      "outputs": [
        {
          "output_type": "execute_result",
          "data": {
            "text/html": [
              "<div>\n",
              "<style scoped>\n",
              "    .dataframe tbody tr th:only-of-type {\n",
              "        vertical-align: middle;\n",
              "    }\n",
              "\n",
              "    .dataframe tbody tr th {\n",
              "        vertical-align: top;\n",
              "    }\n",
              "\n",
              "    .dataframe thead th {\n",
              "        text-align: right;\n",
              "    }\n",
              "</style>\n",
              "<table border=\"1\" class=\"dataframe\">\n",
              "  <thead>\n",
              "    <tr style=\"text-align: right;\">\n",
              "      <th></th>\n",
              "      <th>text</th>\n",
              "      <th>Label</th>\n",
              "      <th>text_lower</th>\n",
              "    </tr>\n",
              "  </thead>\n",
              "  <tbody>\n",
              "    <tr>\n",
              "      <th>0</th>\n",
              "      <td>Sooo SAD I will miss you here in San Diego!!!</td>\n",
              "      <td>1</td>\n",
              "      <td>sooo sad i will miss you here in san diego!!!</td>\n",
              "    </tr>\n",
              "    <tr>\n",
              "      <th>1</th>\n",
              "      <td>my boss is bullying me...</td>\n",
              "      <td>1</td>\n",
              "      <td>my boss is bullying me...</td>\n",
              "    </tr>\n",
              "    <tr>\n",
              "      <th>2</th>\n",
              "      <td>what interview! leave me alone</td>\n",
              "      <td>1</td>\n",
              "      <td>what interview! leave me alone</td>\n",
              "    </tr>\n",
              "    <tr>\n",
              "      <th>3</th>\n",
              "      <td>Sons of ****, why couldn`t they put them on t...</td>\n",
              "      <td>1</td>\n",
              "      <td>sons of ****, why couldn`t they put them on t...</td>\n",
              "    </tr>\n",
              "    <tr>\n",
              "      <th>4</th>\n",
              "      <td>2am feedings for the baby are fun when he is a...</td>\n",
              "      <td>0</td>\n",
              "      <td>2am feedings for the baby are fun when he is a...</td>\n",
              "    </tr>\n",
              "  </tbody>\n",
              "</table>\n",
              "</div>"
            ],
            "text/plain": [
              "                                                text  ...                                         text_lower\n",
              "0      Sooo SAD I will miss you here in San Diego!!!  ...      sooo sad i will miss you here in san diego!!!\n",
              "1                          my boss is bullying me...  ...                          my boss is bullying me...\n",
              "2                     what interview! leave me alone  ...                     what interview! leave me alone\n",
              "3   Sons of ****, why couldn`t they put them on t...  ...   sons of ****, why couldn`t they put them on t...\n",
              "4  2am feedings for the baby are fun when he is a...  ...  2am feedings for the baby are fun when he is a...\n",
              "\n",
              "[5 rows x 3 columns]"
            ]
          },
          "metadata": {
            "tags": []
          },
          "execution_count": 9
        }
      ]
    },
    {
      "cell_type": "markdown",
      "metadata": {
        "id": "8HXpy0CvL7S9"
      },
      "source": [
        "Drop \"text\" column"
      ]
    },
    {
      "cell_type": "code",
      "metadata": {
        "id": "TqYnhjMgMHiB",
        "colab": {
          "base_uri": "https://localhost:8080/",
          "height": 197
        },
        "outputId": "de15367f-fe25-420a-8448-cd8e90389f82"
      },
      "source": [
        "uds1 = uds1.drop(columns=['text'])\r\n",
        "uds1.head()"
      ],
      "execution_count": null,
      "outputs": [
        {
          "output_type": "execute_result",
          "data": {
            "text/html": [
              "<div>\n",
              "<style scoped>\n",
              "    .dataframe tbody tr th:only-of-type {\n",
              "        vertical-align: middle;\n",
              "    }\n",
              "\n",
              "    .dataframe tbody tr th {\n",
              "        vertical-align: top;\n",
              "    }\n",
              "\n",
              "    .dataframe thead th {\n",
              "        text-align: right;\n",
              "    }\n",
              "</style>\n",
              "<table border=\"1\" class=\"dataframe\">\n",
              "  <thead>\n",
              "    <tr style=\"text-align: right;\">\n",
              "      <th></th>\n",
              "      <th>Label</th>\n",
              "      <th>text_lower</th>\n",
              "    </tr>\n",
              "  </thead>\n",
              "  <tbody>\n",
              "    <tr>\n",
              "      <th>0</th>\n",
              "      <td>1</td>\n",
              "      <td>sooo sad i will miss you here in san diego!!!</td>\n",
              "    </tr>\n",
              "    <tr>\n",
              "      <th>1</th>\n",
              "      <td>1</td>\n",
              "      <td>my boss is bullying me...</td>\n",
              "    </tr>\n",
              "    <tr>\n",
              "      <th>2</th>\n",
              "      <td>1</td>\n",
              "      <td>what interview! leave me alone</td>\n",
              "    </tr>\n",
              "    <tr>\n",
              "      <th>3</th>\n",
              "      <td>1</td>\n",
              "      <td>sons of ****, why couldn`t they put them on t...</td>\n",
              "    </tr>\n",
              "    <tr>\n",
              "      <th>4</th>\n",
              "      <td>0</td>\n",
              "      <td>2am feedings for the baby are fun when he is a...</td>\n",
              "    </tr>\n",
              "  </tbody>\n",
              "</table>\n",
              "</div>"
            ],
            "text/plain": [
              "   Label                                         text_lower\n",
              "0      1      sooo sad i will miss you here in san diego!!!\n",
              "1      1                          my boss is bullying me...\n",
              "2      1                     what interview! leave me alone\n",
              "3      1   sons of ****, why couldn`t they put them on t...\n",
              "4      0  2am feedings for the baby are fun when he is a..."
            ]
          },
          "metadata": {
            "tags": []
          },
          "execution_count": 10
        }
      ]
    },
    {
      "cell_type": "markdown",
      "metadata": {
        "id": "xPSkxVXVPjC-"
      },
      "source": [
        "Remove punctuation"
      ]
    },
    {
      "cell_type": "code",
      "metadata": {
        "id": "hMZMGLr4Ppgl",
        "colab": {
          "base_uri": "https://localhost:8080/",
          "height": 647
        },
        "outputId": "a7b250d6-a945-4c28-9878-a471907b7e8c"
      },
      "source": [
        "PUNCT_TO_REMOVE = string.punctuation\r\n",
        "def remove_punctuation(text):\r\n",
        "    return text.translate(str.maketrans('', '', PUNCT_TO_REMOVE))\r\n",
        "\r\n",
        "uds1[\"text_wo_punct\"] = uds1[\"text_lower\"].apply(lambda text: remove_punctuation(text))\r\n",
        "uds1.head(20)"
      ],
      "execution_count": null,
      "outputs": [
        {
          "output_type": "execute_result",
          "data": {
            "text/html": [
              "<div>\n",
              "<style scoped>\n",
              "    .dataframe tbody tr th:only-of-type {\n",
              "        vertical-align: middle;\n",
              "    }\n",
              "\n",
              "    .dataframe tbody tr th {\n",
              "        vertical-align: top;\n",
              "    }\n",
              "\n",
              "    .dataframe thead th {\n",
              "        text-align: right;\n",
              "    }\n",
              "</style>\n",
              "<table border=\"1\" class=\"dataframe\">\n",
              "  <thead>\n",
              "    <tr style=\"text-align: right;\">\n",
              "      <th></th>\n",
              "      <th>Label</th>\n",
              "      <th>text_lower</th>\n",
              "      <th>text_wo_punct</th>\n",
              "    </tr>\n",
              "  </thead>\n",
              "  <tbody>\n",
              "    <tr>\n",
              "      <th>0</th>\n",
              "      <td>1</td>\n",
              "      <td>sooo sad i will miss you here in san diego!!!</td>\n",
              "      <td>sooo sad i will miss you here in san diego</td>\n",
              "    </tr>\n",
              "    <tr>\n",
              "      <th>1</th>\n",
              "      <td>1</td>\n",
              "      <td>my boss is bullying me...</td>\n",
              "      <td>my boss is bullying me</td>\n",
              "    </tr>\n",
              "    <tr>\n",
              "      <th>2</th>\n",
              "      <td>1</td>\n",
              "      <td>what interview! leave me alone</td>\n",
              "      <td>what interview leave me alone</td>\n",
              "    </tr>\n",
              "    <tr>\n",
              "      <th>3</th>\n",
              "      <td>1</td>\n",
              "      <td>sons of ****, why couldn`t they put them on t...</td>\n",
              "      <td>sons of  why couldnt they put them on the rel...</td>\n",
              "    </tr>\n",
              "    <tr>\n",
              "      <th>4</th>\n",
              "      <td>0</td>\n",
              "      <td>2am feedings for the baby are fun when he is a...</td>\n",
              "      <td>2am feedings for the baby are fun when he is a...</td>\n",
              "    </tr>\n",
              "    <tr>\n",
              "      <th>5</th>\n",
              "      <td>0</td>\n",
              "      <td>journey!? wow... u just became cooler.  hehe....</td>\n",
              "      <td>journey wow u just became cooler  hehe is tha...</td>\n",
              "    </tr>\n",
              "    <tr>\n",
              "      <th>6</th>\n",
              "      <td>0</td>\n",
              "      <td>i really really like the song love story by ta...</td>\n",
              "      <td>i really really like the song love story by ta...</td>\n",
              "    </tr>\n",
              "    <tr>\n",
              "      <th>7</th>\n",
              "      <td>1</td>\n",
              "      <td>my sharpie is running dangerously low on ink</td>\n",
              "      <td>my sharpie is running dangerously low on ink</td>\n",
              "    </tr>\n",
              "    <tr>\n",
              "      <th>8</th>\n",
              "      <td>1</td>\n",
              "      <td>i want to go to music tonight but i lost my vo...</td>\n",
              "      <td>i want to go to music tonight but i lost my voice</td>\n",
              "    </tr>\n",
              "    <tr>\n",
              "      <th>9</th>\n",
              "      <td>1</td>\n",
              "      <td>uh oh, i am sunburned</td>\n",
              "      <td>uh oh i am sunburned</td>\n",
              "    </tr>\n",
              "    <tr>\n",
              "      <th>10</th>\n",
              "      <td>1</td>\n",
              "      <td>s`ok, trying to plot alternatives as we speak...</td>\n",
              "      <td>sok trying to plot alternatives as we speak sigh</td>\n",
              "    </tr>\n",
              "    <tr>\n",
              "      <th>11</th>\n",
              "      <td>1</td>\n",
              "      <td>i`ve been sick for the past few days  and thus...</td>\n",
              "      <td>ive been sick for the past few days  and thus ...</td>\n",
              "    </tr>\n",
              "    <tr>\n",
              "      <th>12</th>\n",
              "      <td>1</td>\n",
              "      <td>is back home now      gonna miss every one</td>\n",
              "      <td>is back home now      gonna miss every one</td>\n",
              "    </tr>\n",
              "    <tr>\n",
              "      <th>13</th>\n",
              "      <td>0</td>\n",
              "      <td>playing ghost online is really interesting. th...</td>\n",
              "      <td>playing ghost online is really interesting the...</td>\n",
              "    </tr>\n",
              "    <tr>\n",
              "      <th>14</th>\n",
              "      <td>0</td>\n",
              "      <td>the free fillin` app on my ipod is fun, im add...</td>\n",
              "      <td>the free fillin app on my ipod is fun im addicted</td>\n",
              "    </tr>\n",
              "    <tr>\n",
              "      <th>15</th>\n",
              "      <td>1</td>\n",
              "      <td>i`m sorry.</td>\n",
              "      <td>im sorry</td>\n",
              "    </tr>\n",
              "    <tr>\n",
              "      <th>16</th>\n",
              "      <td>1</td>\n",
              "      <td>on the way to malaysia...no internet access to...</td>\n",
              "      <td>on the way to malaysiano internet access to twit</td>\n",
              "    </tr>\n",
              "    <tr>\n",
              "      <th>17</th>\n",
              "      <td>0</td>\n",
              "      <td>juss came backk from berkeleyy ; omg its madd ...</td>\n",
              "      <td>juss came backk from berkeleyy  omg its madd f...</td>\n",
              "    </tr>\n",
              "    <tr>\n",
              "      <th>18</th>\n",
              "      <td>1</td>\n",
              "      <td>went to sleep and there is a power cut in noid...</td>\n",
              "      <td>went to sleep and there is a power cut in noid...</td>\n",
              "    </tr>\n",
              "    <tr>\n",
              "      <th>19</th>\n",
              "      <td>0</td>\n",
              "      <td>i`m going home now. have you seen my new twitt...</td>\n",
              "      <td>im going home now have you seen my new twitter...</td>\n",
              "    </tr>\n",
              "  </tbody>\n",
              "</table>\n",
              "</div>"
            ],
            "text/plain": [
              "    Label  ...                                      text_wo_punct\n",
              "0       1  ...         sooo sad i will miss you here in san diego\n",
              "1       1  ...                             my boss is bullying me\n",
              "2       1  ...                      what interview leave me alone\n",
              "3       1  ...   sons of  why couldnt they put them on the rel...\n",
              "4       0  ...  2am feedings for the baby are fun when he is a...\n",
              "5       0  ...   journey wow u just became cooler  hehe is tha...\n",
              "6       0  ...  i really really like the song love story by ta...\n",
              "7       1  ...       my sharpie is running dangerously low on ink\n",
              "8       1  ...  i want to go to music tonight but i lost my voice\n",
              "9       1  ...                               uh oh i am sunburned\n",
              "10      1  ...   sok trying to plot alternatives as we speak sigh\n",
              "11      1  ...  ive been sick for the past few days  and thus ...\n",
              "12      1  ...         is back home now      gonna miss every one\n",
              "13      0  ...  playing ghost online is really interesting the...\n",
              "14      0  ...  the free fillin app on my ipod is fun im addicted\n",
              "15      1  ...                                           im sorry\n",
              "16      1  ...   on the way to malaysiano internet access to twit\n",
              "17      0  ...  juss came backk from berkeleyy  omg its madd f...\n",
              "18      1  ...  went to sleep and there is a power cut in noid...\n",
              "19      0  ...  im going home now have you seen my new twitter...\n",
              "\n",
              "[20 rows x 3 columns]"
            ]
          },
          "metadata": {
            "tags": []
          },
          "execution_count": 11
        }
      ]
    },
    {
      "cell_type": "markdown",
      "metadata": {
        "id": "yQTimg5RRQGU"
      },
      "source": [
        "Drop \"text_lower\" column"
      ]
    },
    {
      "cell_type": "code",
      "metadata": {
        "id": "RuLPyQHtRZ16",
        "colab": {
          "base_uri": "https://localhost:8080/",
          "height": 197
        },
        "outputId": "d3169a0d-3b50-4026-d30b-d598abe5ab06"
      },
      "source": [
        "uds1 = uds1.drop(columns=['text_lower'])\r\n",
        "uds1.head()"
      ],
      "execution_count": null,
      "outputs": [
        {
          "output_type": "execute_result",
          "data": {
            "text/html": [
              "<div>\n",
              "<style scoped>\n",
              "    .dataframe tbody tr th:only-of-type {\n",
              "        vertical-align: middle;\n",
              "    }\n",
              "\n",
              "    .dataframe tbody tr th {\n",
              "        vertical-align: top;\n",
              "    }\n",
              "\n",
              "    .dataframe thead th {\n",
              "        text-align: right;\n",
              "    }\n",
              "</style>\n",
              "<table border=\"1\" class=\"dataframe\">\n",
              "  <thead>\n",
              "    <tr style=\"text-align: right;\">\n",
              "      <th></th>\n",
              "      <th>Label</th>\n",
              "      <th>text_wo_punct</th>\n",
              "    </tr>\n",
              "  </thead>\n",
              "  <tbody>\n",
              "    <tr>\n",
              "      <th>0</th>\n",
              "      <td>1</td>\n",
              "      <td>sooo sad i will miss you here in san diego</td>\n",
              "    </tr>\n",
              "    <tr>\n",
              "      <th>1</th>\n",
              "      <td>1</td>\n",
              "      <td>my boss is bullying me</td>\n",
              "    </tr>\n",
              "    <tr>\n",
              "      <th>2</th>\n",
              "      <td>1</td>\n",
              "      <td>what interview leave me alone</td>\n",
              "    </tr>\n",
              "    <tr>\n",
              "      <th>3</th>\n",
              "      <td>1</td>\n",
              "      <td>sons of  why couldnt they put them on the rel...</td>\n",
              "    </tr>\n",
              "    <tr>\n",
              "      <th>4</th>\n",
              "      <td>0</td>\n",
              "      <td>2am feedings for the baby are fun when he is a...</td>\n",
              "    </tr>\n",
              "  </tbody>\n",
              "</table>\n",
              "</div>"
            ],
            "text/plain": [
              "   Label                                      text_wo_punct\n",
              "0      1         sooo sad i will miss you here in san diego\n",
              "1      1                             my boss is bullying me\n",
              "2      1                      what interview leave me alone\n",
              "3      1   sons of  why couldnt they put them on the rel...\n",
              "4      0  2am feedings for the baby are fun when he is a..."
            ]
          },
          "metadata": {
            "tags": []
          },
          "execution_count": 12
        }
      ]
    },
    {
      "cell_type": "markdown",
      "metadata": {
        "id": "RxtoNeGbSDiD"
      },
      "source": [
        "Remove stopwords"
      ]
    },
    {
      "cell_type": "code",
      "metadata": {
        "id": "98a4jOgwSulA",
        "colab": {
          "base_uri": "https://localhost:8080/",
          "height": 233
        },
        "outputId": "6804994c-d117-4e4e-ad1d-716df00348e2"
      },
      "source": [
        "nltk.download('stopwords')\r\n",
        "\", \".join(stopwords.words('english'))\r\n",
        "\r\n",
        "STOPWORDS = set(stopwords.words('english'))\r\n",
        "def remove_stopwords(text):\r\n",
        "    return \" \".join([word for word in str(text).split() if word not in STOPWORDS])\r\n",
        "\r\n",
        "uds1[\"text_wo_stop\"] = uds1[\"text_wo_punct\"].apply(lambda text: remove_stopwords(text))\r\n",
        "uds1.head()"
      ],
      "execution_count": null,
      "outputs": [
        {
          "output_type": "stream",
          "text": [
            "[nltk_data] Downloading package stopwords to /root/nltk_data...\n",
            "[nltk_data]   Unzipping corpora/stopwords.zip.\n"
          ],
          "name": "stdout"
        },
        {
          "output_type": "execute_result",
          "data": {
            "text/html": [
              "<div>\n",
              "<style scoped>\n",
              "    .dataframe tbody tr th:only-of-type {\n",
              "        vertical-align: middle;\n",
              "    }\n",
              "\n",
              "    .dataframe tbody tr th {\n",
              "        vertical-align: top;\n",
              "    }\n",
              "\n",
              "    .dataframe thead th {\n",
              "        text-align: right;\n",
              "    }\n",
              "</style>\n",
              "<table border=\"1\" class=\"dataframe\">\n",
              "  <thead>\n",
              "    <tr style=\"text-align: right;\">\n",
              "      <th></th>\n",
              "      <th>Label</th>\n",
              "      <th>text_wo_punct</th>\n",
              "      <th>text_wo_stop</th>\n",
              "    </tr>\n",
              "  </thead>\n",
              "  <tbody>\n",
              "    <tr>\n",
              "      <th>0</th>\n",
              "      <td>1</td>\n",
              "      <td>sooo sad i will miss you here in san diego</td>\n",
              "      <td>sooo sad miss san diego</td>\n",
              "    </tr>\n",
              "    <tr>\n",
              "      <th>1</th>\n",
              "      <td>1</td>\n",
              "      <td>my boss is bullying me</td>\n",
              "      <td>boss bullying</td>\n",
              "    </tr>\n",
              "    <tr>\n",
              "      <th>2</th>\n",
              "      <td>1</td>\n",
              "      <td>what interview leave me alone</td>\n",
              "      <td>interview leave alone</td>\n",
              "    </tr>\n",
              "    <tr>\n",
              "      <th>3</th>\n",
              "      <td>1</td>\n",
              "      <td>sons of  why couldnt they put them on the rel...</td>\n",
              "      <td>sons couldnt put releases already bought</td>\n",
              "    </tr>\n",
              "    <tr>\n",
              "      <th>4</th>\n",
              "      <td>0</td>\n",
              "      <td>2am feedings for the baby are fun when he is a...</td>\n",
              "      <td>2am feedings baby fun smiles coos</td>\n",
              "    </tr>\n",
              "  </tbody>\n",
              "</table>\n",
              "</div>"
            ],
            "text/plain": [
              "   Label  ...                              text_wo_stop\n",
              "0      1  ...                   sooo sad miss san diego\n",
              "1      1  ...                             boss bullying\n",
              "2      1  ...                     interview leave alone\n",
              "3      1  ...  sons couldnt put releases already bought\n",
              "4      0  ...         2am feedings baby fun smiles coos\n",
              "\n",
              "[5 rows x 3 columns]"
            ]
          },
          "metadata": {
            "tags": []
          },
          "execution_count": 13
        }
      ]
    },
    {
      "cell_type": "markdown",
      "metadata": {
        "id": "Fd-YwTFOU2Sh"
      },
      "source": [
        "Drop \"text_wo_punct\" column"
      ]
    },
    {
      "cell_type": "code",
      "metadata": {
        "id": "6txQZ-uZUvuP",
        "colab": {
          "base_uri": "https://localhost:8080/",
          "height": 197
        },
        "outputId": "ae89fa5f-ae12-4269-c563-62e9251295e4"
      },
      "source": [
        "uds1 = uds1.drop(columns=['text_wo_punct'])\r\n",
        "uds1.head()"
      ],
      "execution_count": null,
      "outputs": [
        {
          "output_type": "execute_result",
          "data": {
            "text/html": [
              "<div>\n",
              "<style scoped>\n",
              "    .dataframe tbody tr th:only-of-type {\n",
              "        vertical-align: middle;\n",
              "    }\n",
              "\n",
              "    .dataframe tbody tr th {\n",
              "        vertical-align: top;\n",
              "    }\n",
              "\n",
              "    .dataframe thead th {\n",
              "        text-align: right;\n",
              "    }\n",
              "</style>\n",
              "<table border=\"1\" class=\"dataframe\">\n",
              "  <thead>\n",
              "    <tr style=\"text-align: right;\">\n",
              "      <th></th>\n",
              "      <th>Label</th>\n",
              "      <th>text_wo_stop</th>\n",
              "    </tr>\n",
              "  </thead>\n",
              "  <tbody>\n",
              "    <tr>\n",
              "      <th>0</th>\n",
              "      <td>1</td>\n",
              "      <td>sooo sad miss san diego</td>\n",
              "    </tr>\n",
              "    <tr>\n",
              "      <th>1</th>\n",
              "      <td>1</td>\n",
              "      <td>boss bullying</td>\n",
              "    </tr>\n",
              "    <tr>\n",
              "      <th>2</th>\n",
              "      <td>1</td>\n",
              "      <td>interview leave alone</td>\n",
              "    </tr>\n",
              "    <tr>\n",
              "      <th>3</th>\n",
              "      <td>1</td>\n",
              "      <td>sons couldnt put releases already bought</td>\n",
              "    </tr>\n",
              "    <tr>\n",
              "      <th>4</th>\n",
              "      <td>0</td>\n",
              "      <td>2am feedings baby fun smiles coos</td>\n",
              "    </tr>\n",
              "  </tbody>\n",
              "</table>\n",
              "</div>"
            ],
            "text/plain": [
              "   Label                              text_wo_stop\n",
              "0      1                   sooo sad miss san diego\n",
              "1      1                             boss bullying\n",
              "2      1                     interview leave alone\n",
              "3      1  sons couldnt put releases already bought\n",
              "4      0         2am feedings baby fun smiles coos"
            ]
          },
          "metadata": {
            "tags": []
          },
          "execution_count": 14
        }
      ]
    },
    {
      "cell_type": "markdown",
      "metadata": {
        "id": "m0kI5nPsk4I0"
      },
      "source": [
        "Tokenization"
      ]
    },
    {
      "cell_type": "code",
      "metadata": {
        "id": "p5EfFeIUcSON",
        "colab": {
          "base_uri": "https://localhost:8080/"
        },
        "outputId": "ad382414-1bbd-469a-cdb0-de463b038f2d"
      },
      "source": [
        "nltk.download('punkt')\r\n",
        "uds1_text=uds1['text_wo_stop']\r\n",
        "print(uds1_text)\r\n",
        "uds1_text = uds1_text.apply(word_tokenize)\r\n",
        "uds1_text.head()"
      ],
      "execution_count": null,
      "outputs": [
        {
          "output_type": "stream",
          "text": [
            "[nltk_data] Downloading package punkt to /root/nltk_data...\n",
            "[nltk_data]   Unzipping tokenizers/punkt.zip.\n",
            "0                                  sooo sad miss san diego\n",
            "1                                            boss bullying\n",
            "2                                    interview leave alone\n",
            "3                 sons couldnt put releases already bought\n",
            "4                        2am feedings baby fun smiles coos\n",
            "                               ...                        \n",
            "16357                                       enjoy ur night\n",
            "16358    wish could come see u denver husband lost job ...\n",
            "16359    ive wondered rake client made clear net dont f...\n",
            "16360    yay good enjoy break probably need hectic week...\n",
            "16361                                                worth\n",
            "Name: text_wo_stop, Length: 16362, dtype: object\n"
          ],
          "name": "stdout"
        },
        {
          "output_type": "execute_result",
          "data": {
            "text/plain": [
              "0                      [sooo, sad, miss, san, diego]\n",
              "1                                   [boss, bullying]\n",
              "2                          [interview, leave, alone]\n",
              "3    [sons, couldnt, put, releases, already, bought]\n",
              "4           [2am, feedings, baby, fun, smiles, coos]\n",
              "Name: text_wo_stop, dtype: object"
            ]
          },
          "metadata": {
            "tags": []
          },
          "execution_count": 15
        }
      ]
    },
    {
      "cell_type": "markdown",
      "metadata": {
        "id": "lG4L3SStlFMd"
      },
      "source": [
        "Insert the tokenized text back in dataframe"
      ]
    },
    {
      "cell_type": "code",
      "metadata": {
        "id": "lE0mpirjdO8K",
        "colab": {
          "base_uri": "https://localhost:8080/",
          "height": 197
        },
        "outputId": "1e6367d8-9e58-4368-f491-0b95550b110d"
      },
      "source": [
        "uds1.insert(2,\"tokenized_text\",uds1_text, True)\r\n",
        "uds1.head()"
      ],
      "execution_count": null,
      "outputs": [
        {
          "output_type": "execute_result",
          "data": {
            "text/html": [
              "<div>\n",
              "<style scoped>\n",
              "    .dataframe tbody tr th:only-of-type {\n",
              "        vertical-align: middle;\n",
              "    }\n",
              "\n",
              "    .dataframe tbody tr th {\n",
              "        vertical-align: top;\n",
              "    }\n",
              "\n",
              "    .dataframe thead th {\n",
              "        text-align: right;\n",
              "    }\n",
              "</style>\n",
              "<table border=\"1\" class=\"dataframe\">\n",
              "  <thead>\n",
              "    <tr style=\"text-align: right;\">\n",
              "      <th></th>\n",
              "      <th>Label</th>\n",
              "      <th>text_wo_stop</th>\n",
              "      <th>tokenized_text</th>\n",
              "    </tr>\n",
              "  </thead>\n",
              "  <tbody>\n",
              "    <tr>\n",
              "      <th>0</th>\n",
              "      <td>1</td>\n",
              "      <td>sooo sad miss san diego</td>\n",
              "      <td>[sooo, sad, miss, san, diego]</td>\n",
              "    </tr>\n",
              "    <tr>\n",
              "      <th>1</th>\n",
              "      <td>1</td>\n",
              "      <td>boss bullying</td>\n",
              "      <td>[boss, bullying]</td>\n",
              "    </tr>\n",
              "    <tr>\n",
              "      <th>2</th>\n",
              "      <td>1</td>\n",
              "      <td>interview leave alone</td>\n",
              "      <td>[interview, leave, alone]</td>\n",
              "    </tr>\n",
              "    <tr>\n",
              "      <th>3</th>\n",
              "      <td>1</td>\n",
              "      <td>sons couldnt put releases already bought</td>\n",
              "      <td>[sons, couldnt, put, releases, already, bought]</td>\n",
              "    </tr>\n",
              "    <tr>\n",
              "      <th>4</th>\n",
              "      <td>0</td>\n",
              "      <td>2am feedings baby fun smiles coos</td>\n",
              "      <td>[2am, feedings, baby, fun, smiles, coos]</td>\n",
              "    </tr>\n",
              "  </tbody>\n",
              "</table>\n",
              "</div>"
            ],
            "text/plain": [
              "   Label  ...                                   tokenized_text\n",
              "0      1  ...                    [sooo, sad, miss, san, diego]\n",
              "1      1  ...                                 [boss, bullying]\n",
              "2      1  ...                        [interview, leave, alone]\n",
              "3      1  ...  [sons, couldnt, put, releases, already, bought]\n",
              "4      0  ...         [2am, feedings, baby, fun, smiles, coos]\n",
              "\n",
              "[5 rows x 3 columns]"
            ]
          },
          "metadata": {
            "tags": []
          },
          "execution_count": 16
        }
      ]
    },
    {
      "cell_type": "markdown",
      "metadata": {
        "id": "M9v8Oo5VlNFN"
      },
      "source": [
        "Lemmatization"
      ]
    },
    {
      "cell_type": "code",
      "metadata": {
        "id": "mU_4c5OKy-jJ",
        "colab": {
          "base_uri": "https://localhost:8080/",
          "height": 683
        },
        "outputId": "3d50bf1d-b04c-4292-cef4-fedfa1fcba7c"
      },
      "source": [
        "nltk.download('wordnet')\r\n",
        "\r\n",
        "def lemmatize_text(text):\r\n",
        "    lemmatizer = WordNetLemmatizer()\r\n",
        "    return [lemmatizer.lemmatize(w,'v') for w in text]\r\n",
        "    return [lemmatizer.lemmatize(w,'n') for w in text]\r\n",
        "\r\n",
        "uds1['lemmatized_text'] = uds1[\"tokenized_text\"].apply(lemmatize_text)\r\n",
        "uds1.head(20)"
      ],
      "execution_count": null,
      "outputs": [
        {
          "output_type": "stream",
          "text": [
            "[nltk_data] Downloading package wordnet to /root/nltk_data...\n",
            "[nltk_data]   Unzipping corpora/wordnet.zip.\n"
          ],
          "name": "stdout"
        },
        {
          "output_type": "execute_result",
          "data": {
            "text/html": [
              "<div>\n",
              "<style scoped>\n",
              "    .dataframe tbody tr th:only-of-type {\n",
              "        vertical-align: middle;\n",
              "    }\n",
              "\n",
              "    .dataframe tbody tr th {\n",
              "        vertical-align: top;\n",
              "    }\n",
              "\n",
              "    .dataframe thead th {\n",
              "        text-align: right;\n",
              "    }\n",
              "</style>\n",
              "<table border=\"1\" class=\"dataframe\">\n",
              "  <thead>\n",
              "    <tr style=\"text-align: right;\">\n",
              "      <th></th>\n",
              "      <th>Label</th>\n",
              "      <th>text_wo_stop</th>\n",
              "      <th>tokenized_text</th>\n",
              "      <th>lemmatized_text</th>\n",
              "    </tr>\n",
              "  </thead>\n",
              "  <tbody>\n",
              "    <tr>\n",
              "      <th>0</th>\n",
              "      <td>1</td>\n",
              "      <td>sooo sad miss san diego</td>\n",
              "      <td>[sooo, sad, miss, san, diego]</td>\n",
              "      <td>[sooo, sad, miss, san, diego]</td>\n",
              "    </tr>\n",
              "    <tr>\n",
              "      <th>1</th>\n",
              "      <td>1</td>\n",
              "      <td>boss bullying</td>\n",
              "      <td>[boss, bullying]</td>\n",
              "      <td>[boss, bully]</td>\n",
              "    </tr>\n",
              "    <tr>\n",
              "      <th>2</th>\n",
              "      <td>1</td>\n",
              "      <td>interview leave alone</td>\n",
              "      <td>[interview, leave, alone]</td>\n",
              "      <td>[interview, leave, alone]</td>\n",
              "    </tr>\n",
              "    <tr>\n",
              "      <th>3</th>\n",
              "      <td>1</td>\n",
              "      <td>sons couldnt put releases already bought</td>\n",
              "      <td>[sons, couldnt, put, releases, already, bought]</td>\n",
              "      <td>[sons, couldnt, put, release, already, buy]</td>\n",
              "    </tr>\n",
              "    <tr>\n",
              "      <th>4</th>\n",
              "      <td>0</td>\n",
              "      <td>2am feedings baby fun smiles coos</td>\n",
              "      <td>[2am, feedings, baby, fun, smiles, coos]</td>\n",
              "      <td>[2am, feed, baby, fun, smile, coo]</td>\n",
              "    </tr>\n",
              "    <tr>\n",
              "      <th>5</th>\n",
              "      <td>0</td>\n",
              "      <td>journey wow u became cooler hehe possible</td>\n",
              "      <td>[journey, wow, u, became, cooler, hehe, possible]</td>\n",
              "      <td>[journey, wow, u, become, cooler, hehe, possible]</td>\n",
              "    </tr>\n",
              "    <tr>\n",
              "      <th>6</th>\n",
              "      <td>0</td>\n",
              "      <td>really really like song love story taylor swift</td>\n",
              "      <td>[really, really, like, song, love, story, tayl...</td>\n",
              "      <td>[really, really, like, song, love, story, tayl...</td>\n",
              "    </tr>\n",
              "    <tr>\n",
              "      <th>7</th>\n",
              "      <td>1</td>\n",
              "      <td>sharpie running dangerously low ink</td>\n",
              "      <td>[sharpie, running, dangerously, low, ink]</td>\n",
              "      <td>[sharpie, run, dangerously, low, ink]</td>\n",
              "    </tr>\n",
              "    <tr>\n",
              "      <th>8</th>\n",
              "      <td>1</td>\n",
              "      <td>want go music tonight lost voice</td>\n",
              "      <td>[want, go, music, tonight, lost, voice]</td>\n",
              "      <td>[want, go, music, tonight, lose, voice]</td>\n",
              "    </tr>\n",
              "    <tr>\n",
              "      <th>9</th>\n",
              "      <td>1</td>\n",
              "      <td>uh oh sunburned</td>\n",
              "      <td>[uh, oh, sunburned]</td>\n",
              "      <td>[uh, oh, sunburn]</td>\n",
              "    </tr>\n",
              "    <tr>\n",
              "      <th>10</th>\n",
              "      <td>1</td>\n",
              "      <td>sok trying plot alternatives speak sigh</td>\n",
              "      <td>[sok, trying, plot, alternatives, speak, sigh]</td>\n",
              "      <td>[sok, try, plot, alternatives, speak, sigh]</td>\n",
              "    </tr>\n",
              "    <tr>\n",
              "      <th>11</th>\n",
              "      <td>1</td>\n",
              "      <td>ive sick past days thus hair looks wierd didnt...</td>\n",
              "      <td>[ive, sick, past, days, thus, hair, looks, wie...</td>\n",
              "      <td>[ive, sick, past, days, thus, hair, look, wier...</td>\n",
              "    </tr>\n",
              "    <tr>\n",
              "      <th>12</th>\n",
              "      <td>1</td>\n",
              "      <td>back home gonna miss every one</td>\n",
              "      <td>[back, home, gon, na, miss, every, one]</td>\n",
              "      <td>[back, home, gon, na, miss, every, one]</td>\n",
              "    </tr>\n",
              "    <tr>\n",
              "      <th>13</th>\n",
              "      <td>0</td>\n",
              "      <td>playing ghost online really interesting new up...</td>\n",
              "      <td>[playing, ghost, online, really, interesting, ...</td>\n",
              "      <td>[play, ghost, online, really, interest, new, u...</td>\n",
              "    </tr>\n",
              "    <tr>\n",
              "      <th>14</th>\n",
              "      <td>0</td>\n",
              "      <td>free fillin app ipod fun im addicted</td>\n",
              "      <td>[free, fillin, app, ipod, fun, im, addicted]</td>\n",
              "      <td>[free, fillin, app, ipod, fun, im, addict]</td>\n",
              "    </tr>\n",
              "    <tr>\n",
              "      <th>15</th>\n",
              "      <td>1</td>\n",
              "      <td>im sorry</td>\n",
              "      <td>[im, sorry]</td>\n",
              "      <td>[im, sorry]</td>\n",
              "    </tr>\n",
              "    <tr>\n",
              "      <th>16</th>\n",
              "      <td>1</td>\n",
              "      <td>way malaysiano internet access twit</td>\n",
              "      <td>[way, malaysiano, internet, access, twit]</td>\n",
              "      <td>[way, malaysiano, internet, access, twit]</td>\n",
              "    </tr>\n",
              "    <tr>\n",
              "      <th>17</th>\n",
              "      <td>0</td>\n",
              "      <td>juss came backk berkeleyy omg madd fun havent ...</td>\n",
              "      <td>[juss, came, backk, berkeleyy, omg, madd, fun,...</td>\n",
              "      <td>[juss, come, backk, berkeleyy, omg, madd, fun,...</td>\n",
              "    </tr>\n",
              "    <tr>\n",
              "      <th>18</th>\n",
              "      <td>1</td>\n",
              "      <td>went sleep power cut noida power back working</td>\n",
              "      <td>[went, sleep, power, cut, noida, power, back, ...</td>\n",
              "      <td>[go, sleep, power, cut, noida, power, back, work]</td>\n",
              "    </tr>\n",
              "    <tr>\n",
              "      <th>19</th>\n",
              "      <td>0</td>\n",
              "      <td>im going home seen new twitter design quitehea...</td>\n",
              "      <td>[im, going, home, seen, new, twitter, design, ...</td>\n",
              "      <td>[im, go, home, see, new, twitter, design, quit...</td>\n",
              "    </tr>\n",
              "  </tbody>\n",
              "</table>\n",
              "</div>"
            ],
            "text/plain": [
              "    Label  ...                                    lemmatized_text\n",
              "0       1  ...                      [sooo, sad, miss, san, diego]\n",
              "1       1  ...                                      [boss, bully]\n",
              "2       1  ...                          [interview, leave, alone]\n",
              "3       1  ...        [sons, couldnt, put, release, already, buy]\n",
              "4       0  ...                 [2am, feed, baby, fun, smile, coo]\n",
              "5       0  ...  [journey, wow, u, become, cooler, hehe, possible]\n",
              "6       0  ...  [really, really, like, song, love, story, tayl...\n",
              "7       1  ...              [sharpie, run, dangerously, low, ink]\n",
              "8       1  ...            [want, go, music, tonight, lose, voice]\n",
              "9       1  ...                                  [uh, oh, sunburn]\n",
              "10      1  ...        [sok, try, plot, alternatives, speak, sigh]\n",
              "11      1  ...  [ive, sick, past, days, thus, hair, look, wier...\n",
              "12      1  ...            [back, home, gon, na, miss, every, one]\n",
              "13      0  ...  [play, ghost, online, really, interest, new, u...\n",
              "14      0  ...         [free, fillin, app, ipod, fun, im, addict]\n",
              "15      1  ...                                        [im, sorry]\n",
              "16      1  ...          [way, malaysiano, internet, access, twit]\n",
              "17      0  ...  [juss, come, backk, berkeleyy, omg, madd, fun,...\n",
              "18      1  ...  [go, sleep, power, cut, noida, power, back, work]\n",
              "19      0  ...  [im, go, home, see, new, twitter, design, quit...\n",
              "\n",
              "[20 rows x 4 columns]"
            ]
          },
          "metadata": {
            "tags": []
          },
          "execution_count": 17
        }
      ]
    },
    {
      "cell_type": "markdown",
      "metadata": {
        "id": "8Vj3FtpHlRoU"
      },
      "source": [
        "Stemming"
      ]
    },
    {
      "cell_type": "code",
      "metadata": {
        "id": "2OE6o1w69JVr",
        "colab": {
          "base_uri": "https://localhost:8080/",
          "height": 197
        },
        "outputId": "a7efb8ca-9ed8-46ef-f891-2cd3684dd839"
      },
      "source": [
        "def stem_words(text):\r\n",
        "  snow_stemmer = SnowballStemmer(language='english')\r\n",
        "  return [snow_stemmer.stem(word) for word in text]\r\n",
        "\r\n",
        "\r\n",
        "uds1[\"text_stemmed\"] = uds1[\"lemmatized_text\"].apply(lambda text: stem_words(text))\r\n",
        "uds1.head()"
      ],
      "execution_count": null,
      "outputs": [
        {
          "output_type": "execute_result",
          "data": {
            "text/html": [
              "<div>\n",
              "<style scoped>\n",
              "    .dataframe tbody tr th:only-of-type {\n",
              "        vertical-align: middle;\n",
              "    }\n",
              "\n",
              "    .dataframe tbody tr th {\n",
              "        vertical-align: top;\n",
              "    }\n",
              "\n",
              "    .dataframe thead th {\n",
              "        text-align: right;\n",
              "    }\n",
              "</style>\n",
              "<table border=\"1\" class=\"dataframe\">\n",
              "  <thead>\n",
              "    <tr style=\"text-align: right;\">\n",
              "      <th></th>\n",
              "      <th>Label</th>\n",
              "      <th>text_wo_stop</th>\n",
              "      <th>tokenized_text</th>\n",
              "      <th>lemmatized_text</th>\n",
              "      <th>text_stemmed</th>\n",
              "    </tr>\n",
              "  </thead>\n",
              "  <tbody>\n",
              "    <tr>\n",
              "      <th>0</th>\n",
              "      <td>1</td>\n",
              "      <td>sooo sad miss san diego</td>\n",
              "      <td>[sooo, sad, miss, san, diego]</td>\n",
              "      <td>[sooo, sad, miss, san, diego]</td>\n",
              "      <td>[sooo, sad, miss, san, diego]</td>\n",
              "    </tr>\n",
              "    <tr>\n",
              "      <th>1</th>\n",
              "      <td>1</td>\n",
              "      <td>boss bullying</td>\n",
              "      <td>[boss, bullying]</td>\n",
              "      <td>[boss, bully]</td>\n",
              "      <td>[boss, bulli]</td>\n",
              "    </tr>\n",
              "    <tr>\n",
              "      <th>2</th>\n",
              "      <td>1</td>\n",
              "      <td>interview leave alone</td>\n",
              "      <td>[interview, leave, alone]</td>\n",
              "      <td>[interview, leave, alone]</td>\n",
              "      <td>[interview, leav, alon]</td>\n",
              "    </tr>\n",
              "    <tr>\n",
              "      <th>3</th>\n",
              "      <td>1</td>\n",
              "      <td>sons couldnt put releases already bought</td>\n",
              "      <td>[sons, couldnt, put, releases, already, bought]</td>\n",
              "      <td>[sons, couldnt, put, release, already, buy]</td>\n",
              "      <td>[son, couldnt, put, releas, alreadi, buy]</td>\n",
              "    </tr>\n",
              "    <tr>\n",
              "      <th>4</th>\n",
              "      <td>0</td>\n",
              "      <td>2am feedings baby fun smiles coos</td>\n",
              "      <td>[2am, feedings, baby, fun, smiles, coos]</td>\n",
              "      <td>[2am, feed, baby, fun, smile, coo]</td>\n",
              "      <td>[2am, feed, babi, fun, smile, coo]</td>\n",
              "    </tr>\n",
              "  </tbody>\n",
              "</table>\n",
              "</div>"
            ],
            "text/plain": [
              "   Label  ...                               text_stemmed\n",
              "0      1  ...              [sooo, sad, miss, san, diego]\n",
              "1      1  ...                              [boss, bulli]\n",
              "2      1  ...                    [interview, leav, alon]\n",
              "3      1  ...  [son, couldnt, put, releas, alreadi, buy]\n",
              "4      0  ...         [2am, feed, babi, fun, smile, coo]\n",
              "\n",
              "[5 rows x 5 columns]"
            ]
          },
          "metadata": {
            "tags": []
          },
          "execution_count": 18
        }
      ]
    },
    {
      "cell_type": "markdown",
      "metadata": {
        "id": "1ZvTFPkq-oTp"
      },
      "source": [
        "Word Vectorization"
      ]
    },
    {
      "cell_type": "code",
      "metadata": {
        "colab": {
          "base_uri": "https://localhost:8080/",
          "height": 197
        },
        "id": "sZKngOznLv1k",
        "outputId": "c47e9343-10d0-48f0-dd84-f2c172808227"
      },
      "source": [
        "word_vectorizer = TfidfVectorizer(\r\n",
        "    stop_words=None,\r\n",
        "    preprocessor=' '.join,\r\n",
        "    lowercase=False)\r\n",
        "word_vectorizer.fit(uds1[\"text_stemmed\"])\r\n",
        "words_vec = word_vectorizer.transform(uds1[\"text_stemmed\"])\r\n",
        "uds1.head()"
      ],
      "execution_count": null,
      "outputs": [
        {
          "output_type": "execute_result",
          "data": {
            "text/html": [
              "<div>\n",
              "<style scoped>\n",
              "    .dataframe tbody tr th:only-of-type {\n",
              "        vertical-align: middle;\n",
              "    }\n",
              "\n",
              "    .dataframe tbody tr th {\n",
              "        vertical-align: top;\n",
              "    }\n",
              "\n",
              "    .dataframe thead th {\n",
              "        text-align: right;\n",
              "    }\n",
              "</style>\n",
              "<table border=\"1\" class=\"dataframe\">\n",
              "  <thead>\n",
              "    <tr style=\"text-align: right;\">\n",
              "      <th></th>\n",
              "      <th>Label</th>\n",
              "      <th>text_wo_stop</th>\n",
              "      <th>tokenized_text</th>\n",
              "      <th>lemmatized_text</th>\n",
              "      <th>text_stemmed</th>\n",
              "    </tr>\n",
              "  </thead>\n",
              "  <tbody>\n",
              "    <tr>\n",
              "      <th>0</th>\n",
              "      <td>1</td>\n",
              "      <td>sooo sad miss san diego</td>\n",
              "      <td>[sooo, sad, miss, san, diego]</td>\n",
              "      <td>[sooo, sad, miss, san, diego]</td>\n",
              "      <td>[sooo, sad, miss, san, diego]</td>\n",
              "    </tr>\n",
              "    <tr>\n",
              "      <th>1</th>\n",
              "      <td>1</td>\n",
              "      <td>boss bullying</td>\n",
              "      <td>[boss, bullying]</td>\n",
              "      <td>[boss, bully]</td>\n",
              "      <td>[boss, bulli]</td>\n",
              "    </tr>\n",
              "    <tr>\n",
              "      <th>2</th>\n",
              "      <td>1</td>\n",
              "      <td>interview leave alone</td>\n",
              "      <td>[interview, leave, alone]</td>\n",
              "      <td>[interview, leave, alone]</td>\n",
              "      <td>[interview, leav, alon]</td>\n",
              "    </tr>\n",
              "    <tr>\n",
              "      <th>3</th>\n",
              "      <td>1</td>\n",
              "      <td>sons couldnt put releases already bought</td>\n",
              "      <td>[sons, couldnt, put, releases, already, bought]</td>\n",
              "      <td>[sons, couldnt, put, release, already, buy]</td>\n",
              "      <td>[son, couldnt, put, releas, alreadi, buy]</td>\n",
              "    </tr>\n",
              "    <tr>\n",
              "      <th>4</th>\n",
              "      <td>0</td>\n",
              "      <td>2am feedings baby fun smiles coos</td>\n",
              "      <td>[2am, feedings, baby, fun, smiles, coos]</td>\n",
              "      <td>[2am, feed, baby, fun, smile, coo]</td>\n",
              "      <td>[2am, feed, babi, fun, smile, coo]</td>\n",
              "    </tr>\n",
              "  </tbody>\n",
              "</table>\n",
              "</div>"
            ],
            "text/plain": [
              "   Label  ...                               text_stemmed\n",
              "0      1  ...              [sooo, sad, miss, san, diego]\n",
              "1      1  ...                              [boss, bulli]\n",
              "2      1  ...                    [interview, leav, alon]\n",
              "3      1  ...  [son, couldnt, put, releas, alreadi, buy]\n",
              "4      0  ...         [2am, feed, babi, fun, smile, coo]\n",
              "\n",
              "[5 rows x 5 columns]"
            ]
          },
          "metadata": {
            "tags": []
          },
          "execution_count": 19
        }
      ]
    },
    {
      "cell_type": "markdown",
      "metadata": {
        "id": "qo-Jq9tq-tJk"
      },
      "source": [
        "Character Vectorization"
      ]
    },
    {
      "cell_type": "code",
      "metadata": {
        "id": "acacn6vpW8Q2"
      },
      "source": [
        "char_vectorizer = TfidfVectorizer(\r\n",
        "    preprocessor=' '.join,\r\n",
        "    lowercase=False)\r\n",
        "char_vectorizer.fit(uds1[\"text_stemmed\"])\r\n",
        "char_vec = char_vectorizer.transform(uds1[\"text_stemmed\"])\r\n"
      ],
      "execution_count": null,
      "outputs": []
    },
    {
      "cell_type": "markdown",
      "metadata": {
        "id": "t0nL4omE-wsy"
      },
      "source": [
        "Combine word and char using hstack"
      ]
    },
    {
      "cell_type": "code",
      "metadata": {
        "colab": {
          "base_uri": "https://localhost:8080/"
        },
        "id": "0sMT1ACSl6u8",
        "outputId": "3aa1b7e2-2d5c-48f8-8aaa-2c6d02ae926b"
      },
      "source": [
        "uds1_features = hstack([words_vec, char_vec])\r\n",
        "uds1_features"
      ],
      "execution_count": null,
      "outputs": [
        {
          "output_type": "execute_result",
          "data": {
            "text/plain": [
              "<16362x33290 sparse matrix of type '<class 'numpy.float64'>'\n",
              "\twith 239802 stored elements in COOrdinate format>"
            ]
          },
          "metadata": {
            "tags": []
          },
          "execution_count": 21
        }
      ]
    },
    {
      "cell_type": "markdown",
      "metadata": {
        "id": "MpI-Cn2U-5GU"
      },
      "source": [
        "Splitting data into train and test ratio (8:2)"
      ]
    },
    {
      "cell_type": "code",
      "metadata": {
        "id": "edcMtoSV-Bg3"
      },
      "source": [
        "uds1_label = uds1[\"Label\"]\r\n",
        "text_train, text_test, target_train, target_test = train_test_split(uds1_features, uds1_label, test_size = 0.2, random_state=5)"
      ],
      "execution_count": null,
      "outputs": []
    },
    {
      "cell_type": "markdown",
      "metadata": {
        "id": "IO_RMjxz_BeV"
      },
      "source": [
        "Define Model"
      ]
    },
    {
      "cell_type": "code",
      "metadata": {
        "id": "uGA-8UWkOt3W",
        "colab": {
          "base_uri": "https://localhost:8080/"
        },
        "outputId": "87f64961-fd79-4ad0-f536-a0407becb4d5"
      },
      "source": [
        "scikit_log_reg = LogisticRegression(C= 1.00)\r\n",
        "scikit_log_reg.fit(text_train, target_train)"
      ],
      "execution_count": null,
      "outputs": [
        {
          "output_type": "execute_result",
          "data": {
            "text/plain": [
              "LogisticRegression(C=1.0, class_weight=None, dual=False, fit_intercept=True,\n",
              "                   intercept_scaling=1, l1_ratio=None, max_iter=100,\n",
              "                   multi_class='auto', n_jobs=None, penalty='l2',\n",
              "                   random_state=None, solver='lbfgs', tol=0.0001, verbose=0,\n",
              "                   warm_start=False)"
            ]
          },
          "metadata": {
            "tags": []
          },
          "execution_count": 23
        }
      ]
    },
    {
      "cell_type": "markdown",
      "metadata": {
        "id": "Dm9_pCDPkLSy"
      },
      "source": [
        "Train the model"
      ]
    },
    {
      "cell_type": "code",
      "metadata": {
        "colab": {
          "base_uri": "https://localhost:8080/"
        },
        "id": "g6Tq4K_xSc9x",
        "outputId": "5c467a85-10e1-4ae8-ef22-89a34c29b1b6"
      },
      "source": [
        "scores = []\r\n",
        "cv_score = np.mean(cross_val_score(scikit_log_reg, text_train, target_train, cv=3, scoring='roc_auc'))\r\n",
        "scores.append(cv_score)\r\n",
        "print('Total CV score is {}'.format(np.mean(scores)))"
      ],
      "execution_count": null,
      "outputs": [
        {
          "output_type": "stream",
          "text": [
            "Total CV score is 0.9372303615631888\n"
          ],
          "name": "stdout"
        }
      ]
    },
    {
      "cell_type": "markdown",
      "metadata": {
        "id": "JoWIDYBykPx0"
      },
      "source": [
        "Test the model"
      ]
    },
    {
      "cell_type": "code",
      "metadata": {
        "colab": {
          "base_uri": "https://localhost:8080/"
        },
        "id": "Zw0J5Bm0mdKb",
        "outputId": "33818a5d-770c-4513-89df-ca35172d147b"
      },
      "source": [
        "lr_probs = scikit_log_reg.predict_proba(text_test)\r\n",
        "lr_probs = lr_probs[:, 1]\r\n",
        "lr_auc = roc_auc_score(target_test, lr_probs)\r\n",
        "print('Total test score is',lr_auc)"
      ],
      "execution_count": null,
      "outputs": [
        {
          "output_type": "stream",
          "text": [
            "Total test score is 0.9356557567525428\n"
          ],
          "name": "stdout"
        }
      ]
    },
    {
      "cell_type": "markdown",
      "metadata": {
        "id": "uKfHUWHfkTxV"
      },
      "source": [
        "Verify confusion matrix"
      ]
    },
    {
      "cell_type": "code",
      "metadata": {
        "colab": {
          "base_uri": "https://localhost:8080/"
        },
        "id": "GpF36yslqhVy",
        "outputId": "fb3785c0-a718-4056-a254-682b476a6677"
      },
      "source": [
        "y_pred = scikit_log_reg.predict(text_test)\r\n",
        "cm= confusion_matrix(target_test, y_pred)  \r\n",
        "cm\r\n",
        "print(\"Accuracy:\",metrics.accuracy_score(target_test, y_pred))\r\n",
        "print(\"Precision:\",metrics.precision_score(target_test, y_pred))\r\n",
        "print(\"Recall:\",metrics.recall_score(target_test, y_pred))"
      ],
      "execution_count": null,
      "outputs": [
        {
          "output_type": "stream",
          "text": [
            "Accuracy: 0.8661778185151238\n",
            "Precision: 0.8461538461538461\n",
            "Recall: 0.8736979166666666\n"
          ],
          "name": "stdout"
        }
      ]
    },
    {
      "cell_type": "markdown",
      "metadata": {
        "id": "nNDUjQ8MkdCq"
      },
      "source": [
        "Check on user input"
      ]
    },
    {
      "cell_type": "code",
      "metadata": {
        "colab": {
          "base_uri": "https://localhost:8080/"
        },
        "id": "owmFqoyzczJP",
        "outputId": "0d1757ab-752d-4827-cb1e-fdf6f3fb4760"
      },
      "source": [
        "sentence = input('Enter the sentence ')\r\n",
        "sentence = remove_stopwords(sentence)\r\n",
        "tokenized_input = word_tokenize(sentence)\r\n",
        "print(tokenized_input)\r\n",
        "tfidf_test_vec = word_vectorizer.transform([tokenized_input])\r\n",
        "\r\n",
        "######\r\n",
        "char_test_vec = char_vectorizer.transform([tokenized_input])\r\n",
        "final_ip = hstack([tfidf_test_vec, char_test_vec])\r\n",
        "input_formmated = scikit_log_reg.predict(final_ip)\r\n",
        "######\r\n",
        "\r\n",
        "print(input_formmated)\r\n",
        "\r\n",
        "if input_formmated==0 :\r\n",
        "  print('Sentence is Positive')\r\n",
        "else :\r\n",
        "  print('Sentence is Negative')"
      ],
      "execution_count": null,
      "outputs": [
        {
          "output_type": "stream",
          "text": [
            "Enter the sentence You're inspiring\n",
            "['You', \"'re\", 'inspiring']\n",
            "[1]\n",
            "Sentence is Negative\n"
          ],
          "name": "stdout"
        }
      ]
    },
    {
      "cell_type": "code",
      "metadata": {
        "id": "JQVDdVcPFh_3"
      },
      "source": [
        "pickle_out= open('model.pkl','wb')\r\n",
        "pickle.dump(uds1, open('dataset.pkl','wb'))"
      ],
      "execution_count": null,
      "outputs": []
    },
    {
      "cell_type": "code",
      "metadata": {
        "id": "1IBHNEPEPwgw"
      },
      "source": [
        "\r\n"
      ],
      "execution_count": null,
      "outputs": []
    }
  ]
}